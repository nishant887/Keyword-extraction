{
 "cells": [
  {
   "cell_type": "code",
   "execution_count": 6,
   "metadata": {
    "scrolled": true
   },
   "outputs": [
    {
     "data": {
      "text/plain": [
       "[(13.166666666666666, 'problems solved using computers'),\n",
       " (9.0, 'emphasizing methods useful'),\n",
       " (9.0, 'based applications today'),\n",
       " (8.5, 'greedy programming paradigms'),\n",
       " (8.5, 'basic algorithm strategies'),\n",
       " (4.666666666666666, 'problems called'),\n",
       " (4.666666666666666, 'complete problems'),\n",
       " (4.5, 'dynamic programming'),\n",
       " (4.5, 'algorithm analysis'),\n",
       " (4.0, 'understand behavior'),\n",
       " (4.0, 'special class'),\n",
       " (4.0, 'searching algorithms'),\n",
       " (4.0, 'problem solving'),\n",
       " (4.0, 'many computer'),\n",
       " (4.0, 'large number'),\n",
       " (4.0, 'input size'),\n",
       " (4.0, 'graph theory'),\n",
       " (4.0, 'graph algorithms'),\n",
       " (4.0, 'form part'),\n",
       " (4.0, 'conquer method'),\n",
       " (4.0, 'computer programs'),\n",
       " (4.0, 'computer algorithms'),\n",
       " (4.0, 'classify algorithms'),\n",
       " (4.0, 'also used'),\n",
       " (4.0, 'also provide'),\n",
       " (3.5, 'course focuses'),\n",
       " (3.5, 'approaches include'),\n",
       " (2.5, 'using'),\n",
       " (1.5, 'course'),\n",
       " (1.5, 'approaches'),\n",
       " (1.0, 'way'),\n",
       " (1.0, 'sorting'),\n",
       " (1.0, 'solution'),\n",
       " (1.0, 'practice'),\n",
       " (1.0, 'np'),\n",
       " (1.0, 'notation'),\n",
       " (1.0, 'look'),\n",
       " (1.0, 'introduction'),\n",
       " (1.0, 'fundamentals'),\n",
       " (1.0, 'function'),\n",
       " (1.0, 'efficiency'),\n",
       " (1.0, 'divide'),\n",
       " (1.0, 'discussed'),\n",
       " (1.0, 'detail'),\n",
       " (1.0, 'conclude'),\n",
       " (1.0, 'big')]"
      ]
     },
     "execution_count": 6,
     "metadata": {},
     "output_type": "execute_result"
    }
   ],
   "source": [
    "from rake_nltk import Rake\n",
    "\n",
    "r = Rake(max_length=4)\n",
    "\n",
    "r.extract_keywords_from_text(\"\"\"This course focuses on the fundamentals of computer algorithms, \n",
    "emphasizing methods useful in practice. We look into the algorithm analysis as a way to understand\n",
    "behavior of computer programs as a function of its input size. Using the big-O notation, we classify\n",
    "algorithms by their efficiency. We look into basic algorithm strategies and approaches to problem solving.\n",
    "Some of these approaches include the divide and conquer method, dynamic programming, and greedy programming paradigms.\n",
    "Sorting and searching algorithms are discussed in detail as they form part of a solution to a large number of problems\n",
    "solved using computers. We also provide an introduction to the graph theory and graph algorithms as they are also \n",
    "used in many computer-based applications today. We conclude the course with a look into a special class of problems\n",
    "called the NP-complete problems.\"\"\")\n",
    "\n",
    "p=r.get_ranked_phrases_with_scores()\n",
    "p"
   ]
  },
  {
   "cell_type": "code",
   "execution_count": null,
   "metadata": {},
   "outputs": [],
   "source": []
  },
  {
   "cell_type": "code",
   "execution_count": null,
   "metadata": {},
   "outputs": [],
   "source": []
  },
  {
   "cell_type": "code",
   "execution_count": null,
   "metadata": {},
   "outputs": [],
   "source": []
  },
  {
   "cell_type": "code",
   "execution_count": null,
   "metadata": {},
   "outputs": [],
   "source": []
  }
 ],
 "metadata": {
  "kernelspec": {
   "display_name": "Python 3",
   "language": "python",
   "name": "python3"
  },
  "language_info": {
   "codemirror_mode": {
    "name": "ipython",
    "version": 3
   },
   "file_extension": ".py",
   "mimetype": "text/x-python",
   "name": "python",
   "nbconvert_exporter": "python",
   "pygments_lexer": "ipython3",
   "version": "3.6.4"
  }
 },
 "nbformat": 4,
 "nbformat_minor": 2
}
